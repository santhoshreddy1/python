{
 "cells": [
  {
   "cell_type": "code",
   "execution_count": 4,
   "metadata": {},
   "outputs": [],
   "source": [
    "import pandas as pd"
   ]
  },
  {
   "cell_type": "code",
   "execution_count": 5,
   "metadata": {},
   "outputs": [],
   "source": [
    "df = pd.read_csv('Dogs-Database.csv')"
   ]
  },
  {
   "cell_type": "code",
   "execution_count": 7,
   "metadata": {},
   "outputs": [
    {
     "data": {
      "text/html": [
       "<div>\n",
       "<style scoped>\n",
       "    .dataframe tbody tr th:only-of-type {\n",
       "        vertical-align: middle;\n",
       "    }\n",
       "\n",
       "    .dataframe tbody tr th {\n",
       "        vertical-align: top;\n",
       "    }\n",
       "\n",
       "    .dataframe thead th {\n",
       "        text-align: right;\n",
       "    }\n",
       "</style>\n",
       "<table border=\"1\" class=\"dataframe\">\n",
       "  <thead>\n",
       "    <tr style=\"text-align: right;\">\n",
       "      <th></th>\n",
       "      <th>Name (Latin)</th>\n",
       "      <th>Name (English)</th>\n",
       "      <th>Name (Cyrillic)</th>\n",
       "      <th>Gender</th>\n",
       "      <th>Flights</th>\n",
       "      <th>Fate</th>\n",
       "      <th>Notes</th>\n",
       "    </tr>\n",
       "  </thead>\n",
       "  <tbody>\n",
       "    <tr>\n",
       "      <th>0</th>\n",
       "      <td>Dezik</td>\n",
       "      <td>Dezik</td>\n",
       "      <td>Дезик</td>\n",
       "      <td>Male</td>\n",
       "      <td>1951-07-22,1951-07-29</td>\n",
       "      <td>Died 1951-07-29</td>\n",
       "      <td>NaN</td>\n",
       "    </tr>\n",
       "    <tr>\n",
       "      <th>1</th>\n",
       "      <td>Tsygan</td>\n",
       "      <td>Gypsy</td>\n",
       "      <td>Цыган</td>\n",
       "      <td>Male</td>\n",
       "      <td>1951-07-22</td>\n",
       "      <td>Survived</td>\n",
       "      <td>Adopted as a pet by Soviet physicist Anatoli B...</td>\n",
       "    </tr>\n",
       "    <tr>\n",
       "      <th>2</th>\n",
       "      <td>Lisa</td>\n",
       "      <td>Fox</td>\n",
       "      <td>Лиса</td>\n",
       "      <td>Female</td>\n",
       "      <td>1951-07-29</td>\n",
       "      <td>Died 1951-07-29</td>\n",
       "      <td>NaN</td>\n",
       "    </tr>\n",
       "    <tr>\n",
       "      <th>3</th>\n",
       "      <td>Chizhik</td>\n",
       "      <td>Siskin</td>\n",
       "      <td>Чижик</td>\n",
       "      <td>Male</td>\n",
       "      <td>1951-08-15,1951-08-28</td>\n",
       "      <td>Died 1951-08-28</td>\n",
       "      <td>NaN</td>\n",
       "    </tr>\n",
       "    <tr>\n",
       "      <th>4</th>\n",
       "      <td>Mishka</td>\n",
       "      <td>Little Bear</td>\n",
       "      <td>Мишка</td>\n",
       "      <td>Male</td>\n",
       "      <td>1951-08-15,1951-08-28</td>\n",
       "      <td>Died 1951-08-28</td>\n",
       "      <td>NaN</td>\n",
       "    </tr>\n",
       "  </tbody>\n",
       "</table>\n",
       "</div>"
      ],
      "text/plain": [
       "  Name (Latin) Name (English) Name (Cyrillic)  Gender                Flights  \\\n",
       "0        Dezik          Dezik           Дезик    Male  1951-07-22,1951-07-29   \n",
       "1       Tsygan          Gypsy           Цыган    Male             1951-07-22   \n",
       "2         Lisa            Fox            Лиса  Female             1951-07-29   \n",
       "3      Chizhik         Siskin           Чижик    Male  1951-08-15,1951-08-28   \n",
       "4       Mishka    Little Bear           Мишка    Male  1951-08-15,1951-08-28   \n",
       "\n",
       "              Fate                                              Notes  \n",
       "0  Died 1951-07-29                                                NaN  \n",
       "1         Survived  Adopted as a pet by Soviet physicist Anatoli B...  \n",
       "2  Died 1951-07-29                                                NaN  \n",
       "3  Died 1951-08-28                                                NaN  \n",
       "4  Died 1951-08-28                                                NaN  "
      ]
     },
     "execution_count": 7,
     "metadata": {},
     "output_type": "execute_result"
    }
   ],
   "source": [
    "df.head()"
   ]
  },
  {
   "cell_type": "code",
   "execution_count": 8,
   "metadata": {},
   "outputs": [
    {
     "data": {
      "text/plain": [
       "Index(['Name (Latin)', 'Name (English)', 'Name (Cyrillic)', 'Gender',\n",
       "       'Flights', 'Fate', 'Notes'],\n",
       "      dtype='object')"
      ]
     },
     "execution_count": 8,
     "metadata": {},
     "output_type": "execute_result"
    }
   ],
   "source": [
    "df.columns"
   ]
  },
  {
   "cell_type": "code",
   "execution_count": 9,
   "metadata": {},
   "outputs": [
    {
     "data": {
      "text/plain": [
       "'Dezik'"
      ]
     },
     "execution_count": 9,
     "metadata": {},
     "output_type": "execute_result"
    }
   ],
   "source": [
    "df.iloc[0]['Name (English)']"
   ]
  },
  {
   "cell_type": "code",
   "execution_count": 16,
   "metadata": {},
   "outputs": [
    {
     "data": {
      "text/plain": [
       "str"
      ]
     },
     "execution_count": 16,
     "metadata": {},
     "output_type": "execute_result"
    }
   ],
   "source": [
    "type(df.iloc[1]['Fate'])"
   ]
  },
  {
   "cell_type": "code",
   "execution_count": 50,
   "metadata": {},
   "outputs": [],
   "source": [
    "final_list=[]\n",
    "for i in range(len(df)):\n",
    "    name=df.iloc[i]['Name (English)']\n",
    "    f_year=df.iloc[i]['Flights'].split('-')[0]\n",
    "    gender=df.iloc[i]['Gender']\n",
    "    fate=df.iloc[i]['Fate'].split()[0]\n",
    "    li=[name,f_year,gender,fate]\n",
    "    final_list.append(li)"
   ]
  },
  {
   "cell_type": "code",
   "execution_count": 52,
   "metadata": {},
   "outputs": [
    {
     "data": {
      "text/plain": [
       "(48,\n",
       " [['Dezik', '1951', 'Male', 'Died'],\n",
       "  ['Gypsy', '1951', 'Male', 'Survived'],\n",
       "  ['Fox', '1951', 'Female', 'Died'],\n",
       "  ['Siskin', '1951', 'Male', 'Died'],\n",
       "  ['Little Bear', '1951', 'Male', 'Died'],\n",
       "  ['Ginger', '1951', 'Male', 'Survived'],\n",
       "  ['Courageous', '1951', 'Male', 'Survived'],\n",
       "  ['Scamp', '1951', 'Male', 'Survived'],\n",
       "  ['Substitute for Missing Bobik', '1951', 'Male', 'Survived'],\n",
       "  ['Fox', '1951', 'Female', 'Died'],\n",
       "  ['Ginger', '1951', 'Male', 'Died'],\n",
       "  ['Little Lady', '1954', 'Female', 'Survived'],\n",
       "  ['Little Bear', '1954', 'Male', 'Died'],\n",
       "  ['Ginger', '1954', 'Male', 'Survived'],\n",
       "  ['Rita', '1955', 'Female', 'Died'],\n",
       "  ['Linda', '1955', 'Female', 'Survived'],\n",
       "  ['Bulba', '1955', 'Female', 'Died'],\n",
       "  ['Button', '1955', 'Female', 'Died'],\n",
       "  ['Little One', '1955', 'Female', 'Survived'],\n",
       "  ['Whitey', '1956', 'Female', 'Survived'],\n",
       "  ['Little Gnat', '1956', 'Female', 'Survived'],\n",
       "  ['Little Lady', '1957', 'Female', 'Survived'],\n",
       "  ['Dzhoyna', '1957', 'Female', 'Died'],\n",
       "  ['Redhead', '1957', 'Female', 'Died'],\n",
       "  ['Squirrel', '1957', 'Female', 'Survived'],\n",
       "  ['Fashionable', '1957', 'Female', 'Survived'],\n",
       "  ['Barker', '1957', 'Female', 'Died'],\n",
       "  ['Palm', '1958', 'Female', 'Died'],\n",
       "  ['Fluffy', '1958', 'Male', 'Died'],\n",
       "  ['Biter / Brave One', '1959', 'Female', 'Survived'],\n",
       "  ['Palm', '1958', 'Female', 'Survived'],\n",
       "  ['Little Whitey', '1958', 'Female', 'Survived'],\n",
       "  ['Spotted', '1958', 'Female', 'Survived'],\n",
       "  ['Zhulba', '1958', 'Female', 'Died'],\n",
       "  ['Snowflake / Pearly', '1959', 'Female', 'Survived'],\n",
       "  ['Small Fry', '1960', 'Male', 'Survived'],\n",
       "  ['Little Fox', '1960', 'Female', 'Died'],\n",
       "  ['Panther / Seagull', '1960', 'Female', 'Died'],\n",
       "  ['Little Arrow', '1960', 'Female', 'Survived'],\n",
       "  ['Neva', '1960', 'Female', 'Survived'],\n",
       "  ['Little Fly', '1960', 'Female', 'Died'],\n",
       "  ['Little Bee', '1960', 'Female', 'Died'],\n",
       "  ['Joke', '1960', 'Female', 'Survived'],\n",
       "  ['Blackie', '1961', 'Female', 'Survived'],\n",
       "  ['Comet', '1960', 'Female', 'Survived'],\n",
       "  ['Little Star', '1961', 'Female', 'Survived'],\n",
       "  ['Little Piece of Coal / Snowball', '1966', 'Male', 'Survived'],\n",
       "  ['Little Wind / Little Fart', '1966', 'Male', 'Survived']])"
      ]
     },
     "execution_count": 52,
     "metadata": {},
     "output_type": "execute_result"
    }
   ],
   "source": [
    "len(final_list),final_list"
   ]
  },
  {
   "cell_type": "code",
   "execution_count": 53,
   "metadata": {},
   "outputs": [],
   "source": [
    "d_frame = pd.DataFrame(columns=['src','dest'])"
   ]
  },
  {
   "cell_type": "code",
   "execution_count": 54,
   "metadata": {},
   "outputs": [
    {
     "data": {
      "text/html": [
       "<div>\n",
       "<style scoped>\n",
       "    .dataframe tbody tr th:only-of-type {\n",
       "        vertical-align: middle;\n",
       "    }\n",
       "\n",
       "    .dataframe tbody tr th {\n",
       "        vertical-align: top;\n",
       "    }\n",
       "\n",
       "    .dataframe thead th {\n",
       "        text-align: right;\n",
       "    }\n",
       "</style>\n",
       "<table border=\"1\" class=\"dataframe\">\n",
       "  <thead>\n",
       "    <tr style=\"text-align: right;\">\n",
       "      <th></th>\n",
       "      <th>src</th>\n",
       "      <th>dest</th>\n",
       "    </tr>\n",
       "  </thead>\n",
       "  <tbody>\n",
       "  </tbody>\n",
       "</table>\n",
       "</div>"
      ],
      "text/plain": [
       "Empty DataFrame\n",
       "Columns: [src, dest]\n",
       "Index: []"
      ]
     },
     "execution_count": 54,
     "metadata": {},
     "output_type": "execute_result"
    }
   ],
   "source": [
    "d_frame"
   ]
  },
  {
   "cell_type": "code",
   "execution_count": null,
   "metadata": {},
   "outputs": [],
   "source": [
    "name,f_year,gender,fate"
   ]
  },
  {
   "cell_type": "code",
   "execution_count": 55,
   "metadata": {},
   "outputs": [],
   "source": [
    "i=0\n",
    "for val in final_list:\n",
    "    name=val[0]\n",
    "    f_year=val[1]\n",
    "    gender=val[2]\n",
    "    fate=val[3]\n",
    "#     d_frame.iloc[i]['src']=name\n",
    "#     d_frame.iloc[i]['dest']=year\n",
    "#     i+=1\n",
    "#     d_frame.iloc[i]['src']=year\n",
    "#     d_frame.iloc[i]['dest']=gender\n",
    "#     i+=1\n",
    "    new_row = {'src':name, 'dest':f_year}\n",
    "    d_frame = d_frame.append(new_row, ignore_index=True)\n",
    "    new_row = {'src':f_year, 'dest':gender}\n",
    "    d_frame = d_frame.append(new_row, ignore_index=True)\n",
    "    new_row = {'src':gender, 'dest':fate}\n",
    "    d_frame = d_frame.append(new_row, ignore_index=True)"
   ]
  },
  {
   "cell_type": "code",
   "execution_count": 56,
   "metadata": {},
   "outputs": [
    {
     "data": {
      "text/html": [
       "<div>\n",
       "<style scoped>\n",
       "    .dataframe tbody tr th:only-of-type {\n",
       "        vertical-align: middle;\n",
       "    }\n",
       "\n",
       "    .dataframe tbody tr th {\n",
       "        vertical-align: top;\n",
       "    }\n",
       "\n",
       "    .dataframe thead th {\n",
       "        text-align: right;\n",
       "    }\n",
       "</style>\n",
       "<table border=\"1\" class=\"dataframe\">\n",
       "  <thead>\n",
       "    <tr style=\"text-align: right;\">\n",
       "      <th></th>\n",
       "      <th>src</th>\n",
       "      <th>dest</th>\n",
       "    </tr>\n",
       "  </thead>\n",
       "  <tbody>\n",
       "    <tr>\n",
       "      <th>0</th>\n",
       "      <td>Dezik</td>\n",
       "      <td>1951</td>\n",
       "    </tr>\n",
       "    <tr>\n",
       "      <th>1</th>\n",
       "      <td>1951</td>\n",
       "      <td>Male</td>\n",
       "    </tr>\n",
       "    <tr>\n",
       "      <th>2</th>\n",
       "      <td>Male</td>\n",
       "      <td>Died</td>\n",
       "    </tr>\n",
       "    <tr>\n",
       "      <th>3</th>\n",
       "      <td>Gypsy</td>\n",
       "      <td>1951</td>\n",
       "    </tr>\n",
       "    <tr>\n",
       "      <th>4</th>\n",
       "      <td>1951</td>\n",
       "      <td>Male</td>\n",
       "    </tr>\n",
       "    <tr>\n",
       "      <th>...</th>\n",
       "      <td>...</td>\n",
       "      <td>...</td>\n",
       "    </tr>\n",
       "    <tr>\n",
       "      <th>139</th>\n",
       "      <td>1966</td>\n",
       "      <td>Male</td>\n",
       "    </tr>\n",
       "    <tr>\n",
       "      <th>140</th>\n",
       "      <td>Male</td>\n",
       "      <td>Survived</td>\n",
       "    </tr>\n",
       "    <tr>\n",
       "      <th>141</th>\n",
       "      <td>Little Wind / Little Fart</td>\n",
       "      <td>1966</td>\n",
       "    </tr>\n",
       "    <tr>\n",
       "      <th>142</th>\n",
       "      <td>1966</td>\n",
       "      <td>Male</td>\n",
       "    </tr>\n",
       "    <tr>\n",
       "      <th>143</th>\n",
       "      <td>Male</td>\n",
       "      <td>Survived</td>\n",
       "    </tr>\n",
       "  </tbody>\n",
       "</table>\n",
       "<p>144 rows × 2 columns</p>\n",
       "</div>"
      ],
      "text/plain": [
       "                           src      dest\n",
       "0                        Dezik      1951\n",
       "1                         1951      Male\n",
       "2                         Male      Died\n",
       "3                        Gypsy      1951\n",
       "4                         1951      Male\n",
       "..                         ...       ...\n",
       "139                       1966      Male\n",
       "140                       Male  Survived\n",
       "141  Little Wind / Little Fart      1966\n",
       "142                       1966      Male\n",
       "143                       Male  Survived\n",
       "\n",
       "[144 rows x 2 columns]"
      ]
     },
     "execution_count": 56,
     "metadata": {},
     "output_type": "execute_result"
    }
   ],
   "source": [
    "d_frame"
   ]
  },
  {
   "cell_type": "code",
   "execution_count": 57,
   "metadata": {},
   "outputs": [],
   "source": [
    "d_frame.to_csv('dogs.csv')"
   ]
  },
  {
   "cell_type": "code",
   "execution_count": null,
   "metadata": {},
   "outputs": [],
   "source": []
  },
  {
   "cell_type": "code",
   "execution_count": null,
   "metadata": {},
   "outputs": [],
   "source": []
  },
  {
   "cell_type": "code",
   "execution_count": null,
   "metadata": {},
   "outputs": [],
   "source": []
  },
  {
   "cell_type": "markdown",
   "metadata": {},
   "source": []
  },
  {
   "cell_type": "code",
   "execution_count": null,
   "metadata": {},
   "outputs": [],
   "source": []
  },
  {
   "cell_type": "code",
   "execution_count": 13,
   "metadata": {},
   "outputs": [
    {
     "name": "stdout",
     "output_type": "stream",
     "text": [
      "Enter a filename:data.txt\n",
      "Enter word to search:Jamal\n",
      "The word:  'Jamal'  was found 2  times\n"
     ]
    }
   ],
   "source": [
    "# accepting a file name\n",
    "filename = input(\"Enter a filename:\")\n",
    "try:\n",
    "    #trying to open a file in read mode\n",
    "    fin = open(filename,\"r\")\n",
    "    # accept the word to search\n",
    "    word = input(\"Enter word to search:\")\n",
    "    # line with a space character to start the loop\n",
    "    line =\" \"\n",
    "    # count to keep the count of the word present in the file\n",
    "    count =0\n",
    "    while(line):\n",
    "        line = fin.readline()\n",
    "        L = line.split()\n",
    "        for i in L:\n",
    "            if i == word:\n",
    "                # increment the count\n",
    "                count += 1\n",
    "    print(\"The word: \",\"'\"+word+\"'\",\" was found\",count,\" times\")\n",
    "  \n",
    "except FileNotFoundError:\n",
    "    print(\"File does not exist. Please try again\")\n"
   ]
  },
  {
   "cell_type": "code",
   "execution_count": null,
   "metadata": {},
   "outputs": [],
   "source": []
  }
 ],
 "metadata": {
  "kernelspec": {
   "display_name": "Python 3",
   "language": "python",
   "name": "python3"
  },
  "language_info": {
   "codemirror_mode": {
    "name": "ipython",
    "version": 3
   },
   "file_extension": ".py",
   "mimetype": "text/x-python",
   "name": "python",
   "nbconvert_exporter": "python",
   "pygments_lexer": "ipython3",
   "version": "3.7.6"
  }
 },
 "nbformat": 4,
 "nbformat_minor": 4
}
